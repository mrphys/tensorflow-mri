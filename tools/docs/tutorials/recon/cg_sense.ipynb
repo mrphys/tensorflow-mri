{
 "cells": [
  {
   "cell_type": "markdown",
   "metadata": {},
   "source": [
    "# Image reconstruction using CG-SENSE"
   ]
  },
  {
   "cell_type": "markdown",
   "metadata": {},
   "source": [
    "      .parent {\n",
    "        border: 1px solid black;\n",
    "        margin: 1rem;\n",
    "        text-align: center;\n",
    "      }\n",
    "      .child {\n",
    "      \tborder-radius: 8px;\n",
    "        border-style: solid;\n",
    "        border-width: 2px;\n",
    "        display: inline-block;\n",
    "        padding: 10px 10px;\n",
    "        margin: 5px 10px;\n",
    "        vertical-align: middle;\n",
    "      }\n",
    "      .button-icon {\n",
    "      \tdisplay: inline-block;\n",
    "        vertical-align: middle;\n",
    "      }\n",
    "      .button-text {\n",
    "        display: inline-block;\n",
    "        vertical-align: middle;\n",
    "      }\n"
   ]
  },
  {
   "cell_type": "raw",
   "metadata": {},
   "source": [
    "<div>\n",
    "\n",
    "  <a target=\"_blank\" href=\"https://www.tensorflow.org/tutorials/quickstart/beginner\">\n",
    "\n",
    "    <div style=\"border-radius: 8px; border-style: solid; border-width: 2px; display: inline-block; padding: 10px 10px; margin: 5 px 10 px; vertical-align: middle\">\n",
    "      <div style=\"display: inline-block; vertical-align: middle\">\n",
    "        <img src=\"https://www.tensorflow.org/images/tf_logo_32px.png\">\n",
    "      </div>\n",
    "      <div style=\"display: inline-block; vertical-align: middle\">\n",
    "        View on TensorFlow.org\n",
    "      </div>\n",
    "    </div>\n",
    "\n",
    "  </a>\n",
    "\n",
    "  <a target=\"_blank\" href=\"https://www.tensorflow.org/tutorials/quickstart/beginner\">\n",
    "\n",
    "    <div style=\"border-radius: 8px; border-style: solid; border-width: 2px; display: inline-block; padding: 10px 10px; margin: 5 px 10 px; vertical-align: middle\">\n",
    "      <div style=\"display: inline-block; vertical-align: middle\" >\n",
    "        <img src=\"https://www.tensorflow.org/images/tf_logo_32px.png\">\n",
    "      </div>\n",
    "      <div style=\"display: inline-block; vertical-align: middle\">\n",
    "        View on TensorFlow.org\n",
    "      </div>\n",
    "    </div>\n",
    "\n",
    "  </a>\n",
    "\n",
    "</div>"
   ]
  },
  {
   "cell_type": "markdown",
   "metadata": {},
   "source": [
    "<video src=\"https://example.org/video.ogv\" controls>alternative text</video>"
   ]
  },
  {
   "cell_type": "code",
   "execution_count": null,
   "metadata": {},
   "outputs": [],
   "source": []
  }
 ],
 "metadata": {
  "kernelspec": {
   "display_name": "Python 3 (ipykernel)",
   "language": "python",
   "name": "python3"
  },
  "language_info": {
   "codemirror_mode": {
    "name": "ipython",
    "version": 3
   },
   "file_extension": ".py",
   "mimetype": "text/x-python",
   "name": "python",
   "nbconvert_exporter": "python",
   "pygments_lexer": "ipython3",
   "version": "3.10.0"
  }
 },
 "nbformat": 4,
 "nbformat_minor": 2
}
